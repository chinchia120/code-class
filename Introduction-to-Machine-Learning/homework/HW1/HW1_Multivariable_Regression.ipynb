{
  "cells": [
    {
      "cell_type": "markdown",
      "metadata": {
        "id": "XfULpw29lPhC"
      },
      "source": [
        "# **Assignment 1. Concrete Strength Regression**\n",
        "\n",
        "This assignment require to perform a multiple variable fitting on a civil engineering dataset. In doing this assignment, you will learn to:\n",
        "\n",
        "* Load data from a `csv` file using the `pandas` package\n",
        "* Fit a multiple variable model using the `sklearn` package\n",
        "* Evaluate the fit.\n",
        "\n",
        "### **Step 1: load the packages you will need.**"
      ]
    },
    {
      "cell_type": "code",
      "execution_count": null,
      "metadata": {
        "id": "wLgn8O02lPhE"
      },
      "outputs": [],
      "source": [
        "import numpy as np\n",
        "import matplotlib\n",
        "import matplotlib.pyplot as plt\n",
        "from sklearn import linear_model\n",
        "import pandas as pd"
      ]
    },
    {
      "cell_type": "markdown",
      "metadata": {
        "id": "cBjz8XfTlPhF"
      },
      "source": [
        "### **Step 2: Download Data**\n",
        "\n",
        "Concrete is one of the most basic construction materials.  In this exercise, you will download a simple dataset for predicting the strength of concrete from the attributes of concrete.  The data set comes from this very nice\n",
        "[kaggle competition](https://www.kaggle.com/maajdl/yeh-concret-data).  Kaggle has many excellent dataset for your project.  \n",
        "You can download the data with the following command.  After running this command, you should have the file `data.csv` in your local folder."
      ]
    },
    {
      "cell_type": "code",
      "execution_count": null,
      "metadata": {
        "colab": {
          "base_uri": "https://localhost:8080/"
        },
        "id": "PgrWCI1wlPhF",
        "outputId": "06b40334-3585-45d6-b72f-0e00f8bfce06"
      },
      "outputs": [],
      "source": [
        "from six.moves import urllib\n",
        "import os\n",
        "\n",
        "fn_src = 'https://raw.githubusercontent.com/sdrangan/introml/master/unit03_mult_lin_reg/Concrete_Data_Yeh.csv'\n",
        "fn_dst = 'data.csv'\n",
        "\n",
        "if os.path.isfile(fn_dst):\n",
        "    print('File %s is already downloaded' % fn_dst)\n",
        "else:\n",
        "    urllib.request.urlretrieve(fn_src, fn_dst)\n",
        "    print('File %s downloaded' % fn_dst)\n"
      ]
    },
    {
      "cell_type": "markdown",
      "metadata": {
        "id": "y4Nph9I8lPhG"
      },
      "source": [
        "The `pandas` package has excellent methods for loading `csv` files.  The following command loads the `csv` file into a dataframe `df`."
      ]
    },
    {
      "cell_type": "code",
      "execution_count": null,
      "metadata": {
        "id": "zEBjo636lPhH"
      },
      "outputs": [],
      "source": [
        "df = pd.read_csv('data.csv')"
      ]
    },
    {
      "cell_type": "markdown",
      "metadata": {
        "id": "Sp7kzZZklPhH"
      },
      "source": [
        "Ues the `df.head()` to print the first few rows of the dataframe."
      ]
    },
    {
      "cell_type": "code",
      "execution_count": null,
      "metadata": {
        "colab": {
          "base_uri": "https://localhost:8080/",
          "height": 694
        },
        "id": "h_caSTH2lPhI",
        "outputId": "b99bd7fa-f6a8-45d6-f06c-c728c3e8ade7"
      },
      "outputs": [],
      "source": [
        "print(len(df))\n",
        "df.head(20)"
      ]
    },
    {
      "cell_type": "markdown",
      "metadata": {
        "id": "s9hFhFswpEwu"
      },
      "source": [
        "### **Step 3: Exploring the data.**"
      ]
    },
    {
      "cell_type": "code",
      "execution_count": null,
      "metadata": {
        "colab": {
          "base_uri": "https://localhost:8080/",
          "height": 300
        },
        "id": "uUT9Xgh4o6Sn",
        "outputId": "3501fd1e-ccd6-42ed-d0c2-324e450c31fa"
      },
      "outputs": [],
      "source": [
        "df.describe()"
      ]
    },
    {
      "cell_type": "markdown",
      "metadata": {
        "id": "B-eF2NxnpNKV"
      },
      "source": [
        "**Step3: Create the list of attribute names**"
      ]
    },
    {
      "cell_type": "markdown",
      "metadata": {
        "id": "aiuPDjNWlPhI"
      },
      "source": [
        "In this exercise, the target variable will be the concrete strength in Megapascals, `csMPa`.  We will use the other 8 attributes as predictors to predict the strength.  \n",
        "\n",
        "Create a list called `xnames` of the 8 names of the predictors.  You can do this as follows:\n",
        "* Get the list of names of the columns from `df.columns.tolist()`.  \n",
        "* Remove the last items from the list using indexing.\n",
        "\n",
        "Print the `xnames`."
      ]
    },
    {
      "cell_type": "code",
      "execution_count": null,
      "metadata": {
        "colab": {
          "base_uri": "https://localhost:8080/"
        },
        "id": "cTP-TOvSlPhJ",
        "outputId": "bd79fa66-e569-4266-b0c6-08c12313cbe8"
      },
      "outputs": [],
      "source": [
        "names = df.columns.tolist()\n",
        "print(names)\n",
        "xnames = names[0: 8]\n",
        "print(xnames)"
      ]
    },
    {
      "cell_type": "markdown",
      "metadata": {
        "id": "oJK5rpgDlPhJ"
      },
      "source": [
        "**Step 4. Get the data matrix `X` and target vector `y` from the dataframe `df`.**  \n",
        "\n",
        "Recall that to get the items from a dataframe, you can use syntax such as\n",
        "\n",
        "    X = df.iloc[:,:-1]  \n",
        "        \n",
        "which gets the data of last column `csMPa` and puts it into an array `y`.  You can also do that with syntax like\n",
        "\n",
        "    y = df.iloc[:,-1]  \n"
      ]
    },
    {
      "cell_type": "code",
      "execution_count": null,
      "metadata": {
        "colab": {
          "base_uri": "https://localhost:8080/",
          "height": 458
        },
        "id": "Se8fAV4xlPhK",
        "outputId": "8b4afccf-8d7d-470c-ed5a-cf02c815efcc"
      },
      "outputs": [],
      "source": [
        "X = df.iloc[:, :-1]\n",
        "y = df.iloc[:, -1]\n",
        "\n",
        "#print(X.shape)\n",
        "#print(y.shape)"
      ]
    },
    {
      "cell_type": "markdown",
      "metadata": {
        "id": "6jk_Y3J0lPhK"
      },
      "source": [
        "**Step 5.Split the Data into Training and Test**\n",
        "\n",
        "Split the data into training and test.  Use 30% for test and 70% for training.\n",
        "You can do that by using numpy array like the demo. \n",
        "You also can do the splitting manually or use the `sklearn` package `train_test_split`.   Store the training data in `Xtr,ytr` and test data in `Xts,yts`.\n"
      ]
    },
    {
      "cell_type": "code",
      "execution_count": null,
      "metadata": {
        "id": "lKNcuPJslPhL"
      },
      "outputs": [],
      "source": [
        "from sklearn.model_selection import train_test_split\n",
        "\n",
        "# TODO\n",
        "# Xtr, Xts, ytr, yts = train_test_split(...)\n",
        "\n",
        "Xtr, Xts, ytr, yts = train_test_split(X, y, train_size=0.7, random_state=None, stratify=None)\n",
        "print(Xtr.shape, ytr.shape, sep=\" \")"
      ]
    },
    {
      "cell_type": "markdown",
      "metadata": {
        "id": "JWnbZ_6zlPhL"
      },
      "source": [
        "**Step 6. Fit a Linear Model**\n",
        "\n",
        "Create a linear regression model object `reg` and fit the model on the training data.\n"
      ]
    },
    {
      "cell_type": "code",
      "execution_count": null,
      "metadata": {
        "id": "dpXKLf2llPhL"
      },
      "outputs": [],
      "source": [
        "# TODO\n",
        "# reg = ...\n",
        "# reg.fit(...)\n",
        "\n",
        "reg = linear_model.LinearRegression()\n",
        "reg.fit(Xtr, ytr)"
      ]
    },
    {
      "cell_type": "markdown",
      "metadata": {
        "id": "fePeaGVRlPhM"
      },
      "source": [
        "**Step 7. Compute the predicted values `yhat_tr` on the training data and print the `R^2` value on the training data.**"
      ]
    },
    {
      "cell_type": "code",
      "execution_count": null,
      "metadata": {
        "id": "7IpT0XlZlPhM"
      },
      "outputs": [],
      "source": [
        "# TODO\n",
        "# yhat_tr = ...\n",
        "# rsq_tr = ...\n",
        "\n",
        "yhat_tr = reg.predict(Xtr)\n",
        "\n",
        "RSS_tr = np.mean((yhat_tr-ytr)**2)/(np.std(ytr)**2)\n",
        "Rsq_tr = 1- RSS_tr\n",
        "\n",
        "print(\"R^2 = {0:f}\".format(Rsq_tr))"
      ]
    },
    {
      "cell_type": "markdown",
      "metadata": {
        "id": "v4kslNiblPhM"
      },
      "source": [
        "**Step 8. Compute the predicted values `yhat_val` on the validation data and print the `R^2` value on the validation data.**"
      ]
    },
    {
      "cell_type": "code",
      "execution_count": null,
      "metadata": {
        "id": "Q_2ar2KplPhM"
      },
      "outputs": [],
      "source": [
        "# TODO\n",
        "# yhat_val = ...\n",
        "# rsq_val = ...\n",
        "\n",
        "yhat_val = reg.predict(Xts)\n",
        "\n",
        "RSS_val = np.mean((yhat_val-yts)**2)/(np.std(yts)**2)\n",
        "Rsq_val = 1 - RSS_val\n",
        "\n",
        "print(\"R^2 = {0:f}\".format(Rsq_val))"
      ]
    },
    {
      "cell_type": "markdown",
      "metadata": {
        "id": "ho4w1TTSlPhM"
      },
      "source": [
        "**Step 9. Create a scatter plot of the actual vs. predicted values of `y` on the validation data.**"
      ]
    },
    {
      "cell_type": "code",
      "execution_count": null,
      "metadata": {
        "id": "zRfgSJR5lPhN"
      },
      "outputs": [],
      "source": [
        "# TODO\n",
        "\n",
        "plt.scatter(yts, yhat_val)\n",
        "plt.plot([0, 100], [0, 100], color='red')\n",
        "plt.xlabel('Actual')\n",
        "plt.ylabel('Predicted')\n",
        "plt.grid()"
      ]
    }
  ],
  "metadata": {
    "colab": {
      "collapsed_sections": [],
      "name": "[Assignment 1] Multivariable Regression.ipynb",
      "provenance": []
    },
    "kernelspec": {
      "display_name": "Python 3.10.7 64-bit",
      "language": "python",
      "name": "python3"
    },
    "language_info": {
      "codemirror_mode": {
        "name": "ipython",
        "version": 3
      },
      "file_extension": ".py",
      "mimetype": "text/x-python",
      "name": "python",
      "nbconvert_exporter": "python",
      "pygments_lexer": "ipython3",
      "version": "3.10.7"
    },
    "vscode": {
      "interpreter": {
        "hash": "fb4569285eef3a3450cb62085a5b1e0da4bce0af555edc33dcf29baf3acc1368"
      }
    }
  },
  "nbformat": 4,
  "nbformat_minor": 0
}
